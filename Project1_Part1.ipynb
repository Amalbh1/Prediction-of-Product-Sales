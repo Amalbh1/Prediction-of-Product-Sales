{
  "nbformat": 4,
  "nbformat_minor": 0,
  "metadata": {
    "colab": {
      "provenance": [],
      "authorship_tag": "ABX9TyOtoxatOjxKNlWoEqa1Mw9T",
      "include_colab_link": true
    },
    "kernelspec": {
      "name": "python3",
      "display_name": "Python 3"
    },
    "language_info": {
      "name": "python"
    }
  },
  "cells": [
    {
      "cell_type": "markdown",
      "metadata": {
        "id": "view-in-github",
        "colab_type": "text"
      },
      "source": [
        "<a href=\"https://colab.research.google.com/github/Amalbh1/Prediction-of-Product-Sales/blob/master/Project1_Part1.ipynb\" target=\"_parent\"><img src=\"https://colab.research.google.com/assets/colab-badge.svg\" alt=\"Open In Colab\"/></a>"
      ]
    },
    {
      "cell_type": "code",
      "execution_count": null,
      "metadata": {
        "id": "PGntMrDPQOmo"
      },
      "outputs": [],
      "source": []
    },
    {
      "cell_type": "markdown",
      "source": [
        "# Project Title: (Prediction of Product Sales).\n",
        "- Author: Amal Benabdelhafidh​\n",
        "\n",
        "## \"Project Overview\"\n",
        "## \"Load and Inspect Data\"\n",
        "## \"Clean Data\"\n",
        "## \"Exploratory Data Analysis\"\n",
        "## \"Feature Inspection\""
      ],
      "metadata": {
        "id": "lZqwSPuMQXul"
      }
    }
  ]
}